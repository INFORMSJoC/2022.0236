{
 "cells": [
  {
   "cell_type": "code",
   "execution_count": 16,
   "id": "f0f85778",
   "metadata": {},
   "outputs": [],
   "source": [
    "import pickle\n",
    "import numpy as np"
   ]
  },
  {
   "cell_type": "code",
   "execution_count": 17,
   "id": "9855253f",
   "metadata": {},
   "outputs": [],
   "source": [
    "budget = 3.6e3\n",
    "N = 100020\n",
    "init_state = np.array([100000/N, 20/N, 0, 0, 0, 0, 1, 0])\n",
    "n_state = 8\n",
    "n_action = 5\n",
    "T = 50\n",
    "deter_para = dict(N=N, B=budget, T=T, alpha=0.6, v_max=0.2/14,\n",
    "                  cost_ti=0.0977, cost_ta=0.02, cost_v=0.07, cost_poc_0=0.000369,\n",
    "                  cost_poc_1=0.001057, pid=1.10/1000, psr=0.7/3,\n",
    "                  pid_plus=0.1221/1000, pir=1/8)\n",
    "in_deter_para = dict(beta1=0.15747, beta2=0.78735, pei=0.10714, per=0.04545)"
   ]
  },
  {
   "cell_type": "code",
   "execution_count": 18,
   "id": "a9dfa0d4",
   "metadata": {},
   "outputs": [],
   "source": [
    "num_samples = 50\n",
    "interval = 0.2\n",
    "np.random.seed(3)\n",
    "beta2_normal = np.random.normal(0.78735, 0.78735 * interval/4, num_samples)\n",
    "beta1_normal = np.random.normal(0.15747, 0.15747 * interval/4, num_samples)\n",
    "pei_normal = np.random.normal(0.10714, 0.10714 * interval/4, num_samples)\n",
    "per_normal = np.random.normal(0.04545, 0.04545 * interval/4, num_samples)"
   ]
  },
  {
   "cell_type": "code",
   "execution_count": 19,
   "id": "52d5d180",
   "metadata": {},
   "outputs": [],
   "source": [
    "para_set = []\n",
    "for i in range(num_samples):\n",
    "    sample_para = {}\n",
    "    sample_para['beta2'] = beta2_normal[i]\n",
    "    sample_para['beta1'] = beta1_normal[i]\n",
    "    sample_para['pei'] = pei_normal[i]\n",
    "    sample_para['per'] = per_normal[i]\n",
    "    para_set.append({**deter_para, **sample_para})\n",
    "pickle.dump(para_set, open('normal20_out_of_sample', 'wb'))"
   ]
  },
  {
   "cell_type": "code",
   "execution_count": 20,
   "id": "72a3e8ef",
   "metadata": {},
   "outputs": [],
   "source": [
    "beta2_gamma = np.random.gamma((4/interval)**2, (0.78735*interval/4)**2/0.78735, num_samples)\n",
    "beta1_gamma = np.random.gamma((4/interval)**2, (0.15747*interval/4)**2/0.15747, num_samples)\n",
    "pei_gamma = np.random.gamma((4/interval)**2, (0.10714*interval/4)**2/0.10714, num_samples)\n",
    "per_gamma = np.random.gamma((4/interval)**2, (0.04545*interval/4)**2/0.04545, num_samples)"
   ]
  },
  {
   "cell_type": "code",
   "execution_count": 21,
   "id": "82178804",
   "metadata": {},
   "outputs": [],
   "source": [
    "para_set = []\n",
    "for i in range(num_samples):\n",
    "    sample_para = {}\n",
    "    sample_para['beta2'] = beta2_gamma[i]\n",
    "    sample_para['beta1'] = beta1_gamma[i]\n",
    "    sample_para['pei'] = pei_gamma[i]\n",
    "    sample_para['per'] = per_gamma[i]\n",
    "    para_set.append({**deter_para, **sample_para})\n",
    "pickle.dump(para_set, open('gamma20_out_of_sample', 'wb'))"
   ]
  },
  {
   "cell_type": "code",
   "execution_count": 7,
   "id": "88b7d680",
   "metadata": {},
   "outputs": [],
   "source": [
    "num_samples = 50\n",
    "interval = 0.4\n",
    "np.random.seed(2)\n",
    "beta2_normal = np.random.normal(0.78735, 0.78735 * interval/4, num_samples)\n",
    "beta1_normal = np.random.normal(0.15747, 0.15747 * interval/4, num_samples)\n",
    "pei_normal = np.random.normal(0.10714, 0.10714 * interval/4, num_samples)\n",
    "per_normal = np.random.normal(0.04545, 0.04545 * interval/4, num_samples)"
   ]
  },
  {
   "cell_type": "code",
   "execution_count": 8,
   "id": "d3348457",
   "metadata": {},
   "outputs": [],
   "source": [
    "para_set = []\n",
    "for i in range(num_samples):\n",
    "    sample_para = {}\n",
    "    sample_para['beta2'] = beta2_normal[i]\n",
    "    sample_para['beta1'] = beta1_normal[i]\n",
    "    sample_para['pei'] = pei_normal[i]\n",
    "    sample_para['per'] = per_normal[i]\n",
    "    para_set.append({**deter_para, **sample_para})\n",
    "pickle.dump(para_set, open('normal40_out_of_sample', 'wb'))"
   ]
  },
  {
   "cell_type": "code",
   "execution_count": 9,
   "id": "cc09a2a5",
   "metadata": {},
   "outputs": [],
   "source": [
    "beta2_gamma = np.random.gamma((4/interval)**2, (0.78735*interval/4)**2/0.78735, num_samples)\n",
    "beta1_gamma = np.random.gamma((4/interval)**2, (0.15747*interval/4)**2/0.15747, num_samples)\n",
    "pei_gamma = np.random.gamma((4/interval)**2, (0.10714*interval/4)**2/0.10714, num_samples)\n",
    "per_gamma = np.random.gamma((4/interval)**2, (0.04545*interval/4)**2/0.04545, num_samples)"
   ]
  },
  {
   "cell_type": "code",
   "execution_count": 10,
   "id": "a62c488b",
   "metadata": {},
   "outputs": [],
   "source": [
    "para_set = []\n",
    "for i in range(num_samples):\n",
    "    sample_para = {}\n",
    "    sample_para['beta2'] = beta2_gamma[i]\n",
    "    sample_para['beta1'] = beta1_gamma[i]\n",
    "    sample_para['pei'] = pei_gamma[i]\n",
    "    sample_para['per'] = per_gamma[i]\n",
    "    para_set.append({**deter_para, **sample_para})\n",
    "pickle.dump(para_set, open('gamma40_out_of_sample', 'wb'))"
   ]
  }
 ],
 "metadata": {
  "kernelspec": {
   "display_name": "Python 3 (ipykernel)",
   "language": "python",
   "name": "python3"
  },
  "language_info": {
   "codemirror_mode": {
    "name": "ipython",
    "version": 3
   },
   "file_extension": ".py",
   "mimetype": "text/x-python",
   "name": "python",
   "nbconvert_exporter": "python",
   "pygments_lexer": "ipython3",
   "version": "3.8.12"
  }
 },
 "nbformat": 4,
 "nbformat_minor": 5
}
