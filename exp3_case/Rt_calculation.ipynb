{
 "cells": [
  {
   "cell_type": "code",
   "execution_count": 1,
   "id": "c4dca8ae",
   "metadata": {},
   "outputs": [
    {
     "data": {
      "text/plain": [
       "[<matplotlib.lines.Line2D at 0x1355913a0>]"
      ]
     },
     "execution_count": 1,
     "metadata": {},
     "output_type": "execute_result"
    },
    {
     "data": {
      "image/png": "[encoded data removed]",
      "text/plain": [
       "<Figure size 640x480 with 1 Axes>"
      ]
     },
     "metadata": {},
     "output_type": "display_data"
    }
   ],
   "source": [
    "from scipy.stats import gamma\n",
    "import matplotlib.pyplot as plt\n",
    "import numpy as np\n",
    "a = 6.5\n",
    "l = -5\n",
    "fig, ax = plt.subplots(1, 1)\n",
    "x = np.linspace(gamma.ppf(0.01, 1),\n",
    "                gamma.ppf(0.99, 12), 100)\n",
    "ax.plot(x, gamma.pdf(x, a, loc=l, scale = 1/0.62),\n",
    "       'r-', lw=5, alpha=0.5, label='gamma pdf')"
   ]
  },
  {
   "cell_type": "code",
   "execution_count": 2,
   "id": "7838ded5",
   "metadata": {},
   "outputs": [],
   "source": [
    "from scipy import stats\n",
    "g = []\n",
    "g.append(stats.gamma.cdf(1.5,a,loc=l,scale=1/0.62) - \n",
    "         stats.gamma.cdf(0,a,loc=l,scale=1/0.62))\n",
    "for i in range(1, 90):\n",
    "    g.append(stats.gamma.cdf(i+0.5,a,loc=l,scale=1/0.62) - \n",
    "             stats.gamma.cdf(i-0.5,a,loc=l,scale=1/0.62))\n",
    "g = np.array(g)"
   ]
  },
  {
   "cell_type": "code",
   "execution_count": 3,
   "id": "f7429b2e",
   "metadata": {
    "scrolled": true
   },
   "outputs": [
    {
     "name": "stdout",
     "output_type": "stream",
     "text": [
      "0.8875194656827077\n",
      "1073.09222\n"
     ]
    },
    {
     "name": "stderr",
     "output_type": "stream",
     "text": [
      "/var/folders/61/wnk65qys65d8rtgx4k0ks6kc0000gn/T/ipykernel_84739/3071974981.py:11: RuntimeWarning: divide by zero encountered in double_scalars\n",
      "  temp = trl[t]/((1 - sum1/25486000) * sum2)\n"
     ]
    }
   ],
   "source": [
    "import pandas as pd\n",
    "data = np.array(pd.read_csv('MPC_low.csv'))\n",
    "trl = data[:,0]\n",
    "Rt_trl = []\n",
    "for t in range(89):\n",
    "    sum1 = 0\n",
    "    sum2 = 0\n",
    "    for i in range(t):\n",
    "        sum1 += trl[i]\n",
    "        sum2 += trl[i] * g[i]\n",
    "    temp = trl[t]/((1 - sum1/25486000) * sum2)\n",
    "    Rt_trl.append(temp)\n",
    "    #print(temp)\n",
    "print(np.mean(Rt_trl[1:]))\n",
    "print(np.max(data[7:]))"
   ]
  },
  {
   "cell_type": "code",
   "execution_count": 4,
   "id": "48c24548",
   "metadata": {},
   "outputs": [
    {
     "name": "stdout",
     "output_type": "stream",
     "text": [
      "0.6766255261620167\n",
      "641.837423\n"
     ]
    },
    {
     "name": "stderr",
     "output_type": "stream",
     "text": [
      "/var/folders/61/wnk65qys65d8rtgx4k0ks6kc0000gn/T/ipykernel_84739/147974981.py:11: RuntimeWarning: divide by zero encountered in double_scalars\n",
      "  temp = trl[t]/((1 - sum1/25486000) * sum2)\n"
     ]
    }
   ],
   "source": [
    "import pandas as pd\n",
    "data = np.array(pd.read_csv('MPC_high.csv'))\n",
    "trl = data[:,0]\n",
    "Rt_trl = []\n",
    "for t in range(89):\n",
    "    sum1 = 0\n",
    "    sum2 = 0\n",
    "    for i in range(t):\n",
    "        sum1 += trl[i]\n",
    "        sum2 += trl[i] * g[i]\n",
    "    temp = trl[t]/((1 - sum1/25486000) * sum2)\n",
    "    Rt_trl.append(temp)\n",
    "    #print(temp)\n",
    "print(np.mean(Rt_trl[1:]))\n",
    "print(np.max(data[7:]))"
   ]
  },
  {
   "cell_type": "code",
   "execution_count": 5,
   "id": "9e0075bf",
   "metadata": {},
   "outputs": [
    {
     "name": "stdout",
     "output_type": "stream",
     "text": [
      "1.0953571423811832\n",
      "813.2927149\n"
     ]
    },
    {
     "name": "stderr",
     "output_type": "stream",
     "text": [
      "/var/folders/61/wnk65qys65d8rtgx4k0ks6kc0000gn/T/ipykernel_84739/1789229792.py:11: RuntimeWarning: divide by zero encountered in double_scalars\n",
      "  temp = trl[t]/((1 - sum1/25486000) * sum2)\n"
     ]
    }
   ],
   "source": [
    "import pandas as pd\n",
    "data = np.array(pd.read_csv('rollout_low.csv'))\n",
    "trl = data[:,0]\n",
    "Rt_trl = []\n",
    "for t in range(89):\n",
    "    sum1 = 0\n",
    "    sum2 = 0\n",
    "    for i in range(t):\n",
    "        sum1 += trl[i]\n",
    "        sum2 += trl[i] * g[i]\n",
    "    temp = trl[t]/((1 - sum1/25486000) * sum2)\n",
    "    Rt_trl.append(temp)\n",
    "    #print([sum1, sum2, temp])\n",
    "print(np.mean(Rt_trl[1:]))\n",
    "print(np.max(data[7:]))"
   ]
  },
  {
   "cell_type": "code",
   "execution_count": 6,
   "id": "8d53efaa",
   "metadata": {},
   "outputs": [
    {
     "name": "stdout",
     "output_type": "stream",
     "text": [
      "0.9548045074171029\n",
      "737.9606555\n"
     ]
    },
    {
     "name": "stderr",
     "output_type": "stream",
     "text": [
      "/var/folders/61/wnk65qys65d8rtgx4k0ks6kc0000gn/T/ipykernel_84739/3281077455.py:11: RuntimeWarning: divide by zero encountered in double_scalars\n",
      "  temp = trl[t]/((1 - sum1/25486000) * sum2)\n"
     ]
    }
   ],
   "source": [
    "import pandas as pd\n",
    "data = np.array(pd.read_csv('rollout_high.csv'))\n",
    "trl = data[:,0]\n",
    "Rt_trl = []\n",
    "for t in range(89):\n",
    "    sum1 = 0\n",
    "    sum2 = 0\n",
    "    for i in range(t):\n",
    "        sum1 += trl[i]\n",
    "        sum2 += trl[i] * g[i]\n",
    "    temp = trl[t]/((1 - sum1/25486000) * sum2)\n",
    "    Rt_trl.append(temp)\n",
    "   # print(temp)\n",
    "print(np.mean(Rt_trl[1:]))\n",
    "print(np.max(data[7:]))"
   ]
  },
  {
   "cell_type": "code",
   "execution_count": 7,
   "id": "345da2a3",
   "metadata": {},
   "outputs": [
    {
     "name": "stdout",
     "output_type": "stream",
     "text": [
      "0.6529546634001373\n",
      "585.7331631\n"
     ]
    },
    {
     "name": "stderr",
     "output_type": "stream",
     "text": [
      "/var/folders/61/wnk65qys65d8rtgx4k0ks6kc0000gn/T/ipykernel_84739/1120031423.py:11: RuntimeWarning: divide by zero encountered in double_scalars\n",
      "  temp = trl[t]/((1 - sum1/25486000) * sum2)\n"
     ]
    }
   ],
   "source": [
    "import pandas as pd\n",
    "data = np.array(pd.read_csv('TL_low.csv'))\n",
    "trl = data[:,0]\n",
    "Rt_trl = []\n",
    "for t in range(89):\n",
    "    sum1 = 0\n",
    "    sum2 = 0\n",
    "    for i in range(t):\n",
    "        sum1 += trl[i]\n",
    "        sum2 += trl[i] * g[i]\n",
    "    temp = trl[t]/((1 - sum1/25486000) * sum2)\n",
    "    Rt_trl.append(temp)\n",
    "    #print([sum1, sum2, temp])\n",
    "print(np.mean(Rt_trl[1:]))\n",
    "print(np.max(data[7:]))"
   ]
  },
  {
   "cell_type": "code",
   "execution_count": 8,
   "id": "e2275cb6",
   "metadata": {},
   "outputs": [
    {
     "name": "stdout",
     "output_type": "stream",
     "text": [
      "0.6464895527065003\n",
      "701.7839178\n"
     ]
    },
    {
     "name": "stderr",
     "output_type": "stream",
     "text": [
      "/var/folders/61/wnk65qys65d8rtgx4k0ks6kc0000gn/T/ipykernel_84739/3861603889.py:11: RuntimeWarning: divide by zero encountered in double_scalars\n",
      "  temp = trl[t]/((1 - sum1/25486000) * sum2)\n"
     ]
    }
   ],
   "source": [
    "import pandas as pd\n",
    "data = np.array(pd.read_csv('TL_high.csv'))\n",
    "trl = data[:,0]\n",
    "Rt_trl = []\n",
    "for t in range(89):\n",
    "    sum1 = 0\n",
    "    sum2 = 0\n",
    "    for i in range(t):\n",
    "        sum1 += trl[i]\n",
    "        sum2 += trl[i] * g[i]\n",
    "    temp = trl[t]/((1 - sum1/25486000) * sum2)\n",
    "    Rt_trl.append(temp)\n",
    "    # print(temp)\n",
    "print(np.mean(Rt_trl[1:]))\n",
    "print(np.max(data[7:]))"
   ]
  },
  {
   "cell_type": "code",
   "execution_count": 9,
   "id": "8ad0bc0a",
   "metadata": {},
   "outputs": [
    {
     "name": "stdout",
     "output_type": "stream",
     "text": [
      "0.7204349674671572\n",
      "583.9421384\n"
     ]
    },
    {
     "name": "stderr",
     "output_type": "stream",
     "text": [
      "/var/folders/61/wnk65qys65d8rtgx4k0ks6kc0000gn/T/ipykernel_84739/2985657049.py:11: RuntimeWarning: divide by zero encountered in double_scalars\n",
      "  temp = trl[t]/((1 - sum1/25486000) * sum2)\n"
     ]
    }
   ],
   "source": [
    "import pandas as pd\n",
    "data = np.array(pd.read_csv('RL_low.csv'))\n",
    "trl = data[:,0]\n",
    "Rt_trl = []\n",
    "for t in range(89):\n",
    "    sum1 = 0\n",
    "    sum2 = 0\n",
    "    for i in range(t):\n",
    "        sum1 += trl[i]\n",
    "        sum2 += trl[i] * g[i]\n",
    "    temp = trl[t]/((1 - sum1/25486000) * sum2)\n",
    "    Rt_trl.append(temp)\n",
    "    #print([sum1, sum2, temp])\n",
    "print(np.mean(Rt_trl[1:]))\n",
    "print(np.max(data[7:]))"
   ]
  },
  {
   "cell_type": "code",
   "execution_count": 10,
   "id": "37db2981",
   "metadata": {},
   "outputs": [
    {
     "name": "stdout",
     "output_type": "stream",
     "text": [
      "0.6797315108791903\n",
      "466.1279569\n"
     ]
    },
    {
     "name": "stderr",
     "output_type": "stream",
     "text": [
      "/var/folders/61/wnk65qys65d8rtgx4k0ks6kc0000gn/T/ipykernel_84739/1019360885.py:11: RuntimeWarning: divide by zero encountered in double_scalars\n",
      "  temp = trl[t]/((1 - sum1/25486000) * sum2)\n"
     ]
    }
   ],
   "source": [
    "import pandas as pd\n",
    "data = np.array(pd.read_csv('RL_high.csv'))\n",
    "trl = data[:,0]\n",
    "Rt_trl = []\n",
    "for t in range(89):\n",
    "    sum1 = 0\n",
    "    sum2 = 0\n",
    "    for i in range(t):\n",
    "        sum1 += trl[i]\n",
    "        sum2 += trl[i] * g[i]\n",
    "    temp = trl[t]/((1 - sum1/25486000) * sum2)\n",
    "    Rt_trl.append(temp)\n",
    "    #print([sum1, sum2, temp])\n",
    "print(np.mean(Rt_trl[1:]))\n",
    "print(np.max(data[8:]))"
   ]
  },
  {
   "cell_type": "code",
   "execution_count": null,
   "id": "ca33af91",
   "metadata": {},
   "outputs": [],
   "source": []
  }
 ],
 "metadata": {
  "kernelspec": {
   "display_name": "Python 3 (ipykernel)",
   "language": "python",
   "name": "python3"
  },
  "language_info": {
   "codemirror_mode": {
    "name": "ipython",
    "version": 3
   },
   "file_extension": ".py",
   "mimetype": "text/x-python",
   "name": "python",
   "nbconvert_exporter": "python",
   "pygments_lexer": "ipython3",
   "version": "3.8.12"
  }
 },
 "nbformat": 4,
 "nbformat_minor": 5
}
